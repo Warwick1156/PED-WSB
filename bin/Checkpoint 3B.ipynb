{
 "cells": [
  {
   "cell_type": "code",
   "execution_count": 1,
   "metadata": {},
   "outputs": [],
   "source": [
    "import pandas as pd\n",
    "import ast\n",
    "from collections import Counter\n",
    "from sklearn.ensemble import RandomForestRegressor\n",
    "from sklearn.preprocessing import LabelEncoder\n",
    "import numpy as np"
   ]
  },
  {
   "cell_type": "code",
   "execution_count": 2,
   "metadata": {},
   "outputs": [],
   "source": [
    "data = pd.read_csv(\"../data/merged_data4.csv\", sep='`')\n",
    "Y = data['score'].copy()\n",
    "data = data.drop(['title', 'id', 'url',\n",
    "                  'body', 'permalink', 'name',\n",
    "                  'timestamp', 'body_url', 'title_tokens',\n",
    "                  'body_tokens', 'image_text'], axis=1)\n",
    "\n",
    "def take_most_common(str_list):\n",
    "    mc = Counter(str_list).most_common()\n",
    "    if len(mc) > 0:\n",
    "        return mc[0][0]\n",
    "    return \"\"\n",
    "    \n",
    "K = ['title_emojis',\n",
    "     'body_emojis',\n",
    "     'imgs_labels']\n",
    "\n",
    "for k in K:\n",
    "    data[k] = data[k].apply(ast.literal_eval)\n",
    "    data[k] = data[k].apply(take_most_common)\n",
    "    \n",
    "data.imgs_colors = data.imgs_colors.apply(ast.literal_eval)\n",
    "data.imgs_colors = data.imgs_colors.apply(lambda x: x[0][0] if len(x) > 0 else -1)"
   ]
  },
  {
   "cell_type": "code",
   "execution_count": 3,
   "metadata": {},
   "outputs": [
    {
     "data": {
      "text/plain": [
       "['title_emojis', 'body_emojis', 'imgs_labels']"
      ]
     },
     "execution_count": 3,
     "metadata": {},
     "output_type": "execute_result"
    }
   ],
   "source": [
    "K = []\n",
    "for x in data.keys():\n",
    "    if isinstance(data[x][0], str):\n",
    "        K.append(x)\n",
    "\n",
    "K"
   ]
  },
  {
   "cell_type": "code",
   "execution_count": 4,
   "metadata": {},
   "outputs": [],
   "source": [
    "for k in K:\n",
    "    le = LabelEncoder()       \n",
    "    le.fit(data[k].tolist())\n",
    "    data[k] = data[k].apply(lambda x: le.transform([x])[0])"
   ]
  },
  {
   "cell_type": "code",
   "execution_count": 5,
   "metadata": {},
   "outputs": [
    {
     "name": "stdout",
     "output_type": "stream",
     "text": [
      "score\n",
      "comms_num\n",
      "created\n",
      "upvote_ratio\n",
      "is_oc\n",
      "is_self\n",
      "sin_time\n",
      "cos_time\n",
      "sin_date\n",
      "cos_date\n",
      "words_in_titles\n",
      "words_in_body\n",
      "title_capital_letters_count\n",
      "title_capital_letters_ratio\n",
      "body_capital_letters_count\n",
      "body_capital_letters_ratio\n",
      "body_urls_count\n",
      "title_emojis\n",
      "title_emoji_count\n",
      "title_emojis_ratio\n",
      "body_emojis\n",
      "body_emoji_count\n",
      "body_emojis_ratio\n",
      "image_text_words\n",
      "image_text_capital_letters_count\n",
      "image_text_capital_letters_ratio\n",
      "imgs_labels\n",
      "imgs_colors\n",
      "imgs_count\n"
     ]
    }
   ],
   "source": [
    "for k in data.keys():\n",
    "    print(k)\n",
    "    data[k] = data[k].astype(float)"
   ]
  },
  {
   "cell_type": "markdown",
   "metadata": {},
   "source": [
    "## Features importance"
   ]
  },
  {
   "cell_type": "code",
   "execution_count": 6,
   "metadata": {},
   "outputs": [],
   "source": [
    "X = data.copy()\n",
    "X = X.drop(['created', 'score'], axis=1)"
   ]
  },
  {
   "cell_type": "code",
   "execution_count": 7,
   "metadata": {},
   "outputs": [
    {
     "name": "stderr",
     "output_type": "stream",
     "text": [
      "[Parallel(n_jobs=-1)]: Using backend ThreadingBackend with 8 concurrent workers.\n",
      "[Parallel(n_jobs=-1)]: Done  34 tasks      | elapsed:    1.6s\n",
      "[Parallel(n_jobs=-1)]: Done 150 out of 150 | elapsed:    6.2s finished\n"
     ]
    }
   ],
   "source": [
    "clf = RandomForestRegressor(n_estimators=150,verbose=1,n_jobs=-1, min_samples_leaf=5)\n",
    "_ = clf.fit(X, Y)"
   ]
  },
  {
   "cell_type": "code",
   "execution_count": 8,
   "metadata": {},
   "outputs": [
    {
     "name": "stdout",
     "output_type": "stream",
     "text": [
      "Imp.\t Column\n",
      "******\t ******************************\n",
      "0.7489 \t comms_num\n",
      "0.077 \t is_self\n",
      "0.0361 \t words_in_titles\n",
      "0.0281 \t words_in_body\n",
      "0.0192 \t upvote_ratio\n",
      "0.0151 \t cos_time\n",
      "0.0123 \t title_capital_letters_ratio\n",
      "0.012 \t sin_time\n",
      "0.0108 \t cos_date\n",
      "0.0105 \t sin_date\n",
      "0.0093 \t title_capital_letters_count\n",
      "0.0066 \t body_capital_letters_ratio\n",
      "0.0059 \t body_urls_count\n",
      "0.005 \t body_capital_letters_count\n",
      "0.0009 \t title_emojis_ratio\n",
      "0.0008 \t title_emojis\n",
      "0.0004 \t title_emoji_count\n",
      "0.0003 \t is_oc\n",
      "0.0003 \t body_emojis_ratio\n",
      "0.0001 \t body_emojis\n",
      "0.0001 \t body_emoji_count\n",
      "0.0001 \t imgs_labels\n",
      "0.0 \t image_text_words\n",
      "0.0 \t image_text_capital_letters_count\n",
      "0.0 \t image_text_capital_letters_ratio\n",
      "0.0 \t imgs_colors\n",
      "0.0 \t imgs_count\n"
     ]
    }
   ],
   "source": [
    "imp = np.around(clf.feature_importances_, 4)\n",
    "zipped = sorted(zip(X.keys(), imp), key=lambda x: x[1], reverse=True)\n",
    "\n",
    "print(\"Imp.\\t Column\\n******\\t ******************************\")\n",
    "for l, i in zipped:\n",
    "    print(i, \"\\t\", l)"
   ]
  },
  {
   "cell_type": "markdown",
   "metadata": {},
   "source": [
    "## Features importance (without comms_num and upvote_ratio)"
   ]
  },
  {
   "cell_type": "code",
   "execution_count": 9,
   "metadata": {},
   "outputs": [],
   "source": [
    "X = X.drop(['comms_num', 'upvote_ratio'], axis=1)"
   ]
  },
  {
   "cell_type": "code",
   "execution_count": 10,
   "metadata": {},
   "outputs": [
    {
     "name": "stderr",
     "output_type": "stream",
     "text": [
      "[Parallel(n_jobs=-1)]: Using backend ThreadingBackend with 8 concurrent workers.\n",
      "[Parallel(n_jobs=-1)]: Done  34 tasks      | elapsed:    1.7s\n",
      "[Parallel(n_jobs=-1)]: Done 150 out of 150 | elapsed:    6.4s finished\n"
     ]
    }
   ],
   "source": [
    "clf = RandomForestRegressor(n_estimators=150,verbose=1,n_jobs=-1, min_samples_leaf=5)\n",
    "_ = clf.fit(X, Y)"
   ]
  },
  {
   "cell_type": "code",
   "execution_count": 11,
   "metadata": {},
   "outputs": [
    {
     "name": "stdout",
     "output_type": "stream",
     "text": [
      "Imp.\t Column\n",
      "******\t ******************************\n",
      "0.1933 \t cos_time\n",
      "0.1786 \t sin_time\n",
      "0.1566 \t title_capital_letters_ratio\n",
      "0.1241 \t words_in_titles\n",
      "0.0878 \t title_capital_letters_count\n",
      "0.0685 \t cos_date\n",
      "0.0677 \t sin_date\n",
      "0.0256 \t is_self\n",
      "0.0213 \t words_in_body\n",
      "0.0192 \t title_emojis_ratio\n",
      "0.0107 \t body_capital_letters_ratio\n",
      "0.0098 \t title_emojis\n",
      "0.0094 \t body_capital_letters_count\n",
      "0.0094 \t title_emoji_count\n",
      "0.0079 \t is_oc\n",
      "0.0034 \t body_urls_count\n",
      "0.0025 \t body_emojis_ratio\n",
      "0.0016 \t body_emoji_count\n",
      "0.0009 \t body_emojis\n",
      "0.0007 \t image_text_words\n",
      "0.0005 \t imgs_labels\n",
      "0.0004 \t imgs_colors\n",
      "0.0001 \t imgs_count\n",
      "0.0 \t image_text_capital_letters_count\n",
      "0.0 \t image_text_capital_letters_ratio\n"
     ]
    }
   ],
   "source": [
    "imp = np.around(clf.feature_importances_, 4)\n",
    "zipped = sorted(zip(X.keys(), imp), key=lambda x: x[1], reverse=True)\n",
    "\n",
    "print(\"Imp.\\t Column\\n******\\t ******************************\")\n",
    "for l, i in zipped:\n",
    "    print(i, \"\\t\", l)"
   ]
  },
  {
   "cell_type": "markdown",
   "metadata": {},
   "source": [
    "## Features importance (without 2 most popular days)"
   ]
  },
  {
   "cell_type": "code",
   "execution_count": 12,
   "metadata": {},
   "outputs": [],
   "source": [
    "X = data.copy()\n",
    "X = X[~((X.created > 1611702000) & (X.created < 1611874799))]\n",
    "Y = X['score']\n",
    "X = X.drop(['created', 'score', 'comms_num', 'upvote_ratio'], axis=1)"
   ]
  },
  {
   "cell_type": "code",
   "execution_count": 13,
   "metadata": {},
   "outputs": [
    {
     "name": "stderr",
     "output_type": "stream",
     "text": [
      "[Parallel(n_jobs=-1)]: Using backend ThreadingBackend with 8 concurrent workers.\n",
      "[Parallel(n_jobs=-1)]: Done  34 tasks      | elapsed:    0.6s\n",
      "[Parallel(n_jobs=-1)]: Done 150 out of 150 | elapsed:    2.4s finished\n"
     ]
    }
   ],
   "source": [
    "clf = RandomForestRegressor(n_estimators=150,verbose=1,n_jobs=-1, min_samples_leaf=5)\n",
    "_ = clf.fit(X, Y)"
   ]
  },
  {
   "cell_type": "code",
   "execution_count": 14,
   "metadata": {},
   "outputs": [
    {
     "name": "stdout",
     "output_type": "stream",
     "text": [
      "Imp.\t Column\n",
      "******\t ******************************\n",
      "0.2032 \t cos_time\n",
      "0.1635 \t sin_time\n",
      "0.1542 \t title_capital_letters_ratio\n",
      "0.1208 \t words_in_titles\n",
      "0.101 \t title_capital_letters_count\n",
      "0.0608 \t cos_date\n",
      "0.0598 \t sin_date\n",
      "0.0523 \t words_in_body\n",
      "0.0219 \t title_emojis_ratio\n",
      "0.0143 \t body_capital_letters_ratio\n",
      "0.0102 \t title_emoji_count\n",
      "0.01 \t body_capital_letters_count\n",
      "0.0097 \t title_emojis\n",
      "0.007 \t is_oc\n",
      "0.0027 \t body_urls_count\n",
      "0.0027 \t body_emojis_ratio\n",
      "0.0022 \t is_self\n",
      "0.0015 \t body_emoji_count\n",
      "0.0007 \t body_emojis\n",
      "0.0005 \t imgs_labels\n",
      "0.0005 \t imgs_colors\n",
      "0.0003 \t image_text_words\n",
      "0.0002 \t imgs_count\n",
      "0.0 \t image_text_capital_letters_count\n",
      "0.0 \t image_text_capital_letters_ratio\n"
     ]
    }
   ],
   "source": [
    "imp = np.around(clf.feature_importances_, 4)\n",
    "zipped = sorted(zip(X.keys(), imp), key=lambda x: x[1], reverse=True)\n",
    "\n",
    "print(\"Imp.\\t Column\\n******\\t ******************************\")\n",
    "for l, i in zipped:\n",
    "    print(i, \"\\t\", l)"
   ]
  },
  {
   "cell_type": "code",
   "execution_count": null,
   "metadata": {},
   "outputs": [],
   "source": []
  },
  {
   "cell_type": "code",
   "execution_count": null,
   "metadata": {},
   "outputs": [],
   "source": []
  }
 ],
 "metadata": {
  "kernelspec": {
   "display_name": "Python 3.7.6 64-bit ('anaconda3': virtualenv)",
   "language": "python",
   "name": "python37664bitanaconda3virtualenv479a4a6d335c4a66b4edef7caa9238ba"
  },
  "language_info": {
   "codemirror_mode": {
    "name": "ipython",
    "version": 3
   },
   "file_extension": ".py",
   "mimetype": "text/x-python",
   "name": "python",
   "nbconvert_exporter": "python",
   "pygments_lexer": "ipython3",
   "version": "3.7.6"
  }
 },
 "nbformat": 4,
 "nbformat_minor": 2
}
