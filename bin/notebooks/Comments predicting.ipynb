{
 "cells": [
  {
   "cell_type": "code",
   "execution_count": 1,
   "id": "8e38b361",
   "metadata": {},
   "outputs": [],
   "source": [
    "import os\n",
    "import sys\n",
    "import json\n",
    "from pprint import pprint\n",
    "\n",
    "src_dir = os.path.join('..', 'src')\n",
    "sys.path.append(os.path.abspath(src_dir))\n",
    "\n",
    "import numpy as np\n",
    "import pandas as pd\n",
    "\n",
    "from tqdm import tqdm\n",
    "\n",
    "from data import get_dataset"
   ]
  },
  {
   "cell_type": "code",
   "execution_count": 2,
   "id": "de935bf1",
   "metadata": {},
   "outputs": [
    {
     "name": "stdout",
     "output_type": "stream",
     "text": [
      "../../data/datasets/timeseries_v4.1.csv\n"
     ]
    }
   ],
   "source": [
    "data = get_dataset('timeseries_v4.1.csv')"
   ]
  },
  {
   "cell_type": "code",
   "execution_count": 3,
   "id": "1718eb90",
   "metadata": {},
   "outputs": [
    {
     "data": {
      "text/html": [
       "<div>\n",
       "<style scoped>\n",
       "    .dataframe tbody tr th:only-of-type {\n",
       "        vertical-align: middle;\n",
       "    }\n",
       "\n",
       "    .dataframe tbody tr th {\n",
       "        vertical-align: top;\n",
       "    }\n",
       "\n",
       "    .dataframe thead th {\n",
       "        text-align: right;\n",
       "    }\n",
       "</style>\n",
       "<table border=\"1\" class=\"dataframe\">\n",
       "  <thead>\n",
       "    <tr style=\"text-align: right;\">\n",
       "      <th></th>\n",
       "      <th>post_id</th>\n",
       "      <th>datetime</th>\n",
       "      <th>new_comments</th>\n",
       "      <th>texts</th>\n",
       "      <th>cumsum</th>\n",
       "    </tr>\n",
       "  </thead>\n",
       "  <tbody>\n",
       "    <tr>\n",
       "      <th>0</th>\n",
       "      <td>l0hnrw</td>\n",
       "      <td>2021-01-19 11:00:33</td>\n",
       "      <td>105.0</td>\n",
       "      <td>hi hi today fucking green gunna today fucking ...</td>\n",
       "      <td>105.0</td>\n",
       "    </tr>\n",
       "    <tr>\n",
       "      <th>1</th>\n",
       "      <td>l0hnrw</td>\n",
       "      <td>2021-01-19 11:10:33</td>\n",
       "      <td>62.0</td>\n",
       "      <td>die gang gme bb till die gang gme bb till time...</td>\n",
       "      <td>167.0</td>\n",
       "    </tr>\n",
       "    <tr>\n",
       "      <th>2</th>\n",
       "      <td>l0hnrw</td>\n",
       "      <td>2021-01-19 11:20:33</td>\n",
       "      <td>68.0</td>\n",
       "      <td>dropouts head listening pm trapt strong watchi...</td>\n",
       "      <td>235.0</td>\n",
       "    </tr>\n",
       "    <tr>\n",
       "      <th>3</th>\n",
       "      <td>l0hnrw</td>\n",
       "      <td>2021-01-19 11:30:33</td>\n",
       "      <td>84.0</td>\n",
       "      <td>deleted deleted ride bb ride bb open ashamed r...</td>\n",
       "      <td>319.0</td>\n",
       "    </tr>\n",
       "    <tr>\n",
       "      <th>4</th>\n",
       "      <td>l0hnrw</td>\n",
       "      <td>2021-01-19 11:40:33</td>\n",
       "      <td>60.0</td>\n",
       "      <td>insolvent make wsb mutual moment accidentally ...</td>\n",
       "      <td>379.0</td>\n",
       "    </tr>\n",
       "    <tr>\n",
       "      <th>...</th>\n",
       "      <td>...</td>\n",
       "      <td>...</td>\n",
       "      <td>...</td>\n",
       "      <td>...</td>\n",
       "      <td>...</td>\n",
       "    </tr>\n",
       "    <tr>\n",
       "      <th>2302843</th>\n",
       "      <td>l6yy64</td>\n",
       "      <td>2021-06-05 03:49:16</td>\n",
       "      <td>0.0</td>\n",
       "      <td></td>\n",
       "      <td>0.0</td>\n",
       "    </tr>\n",
       "    <tr>\n",
       "      <th>2302844</th>\n",
       "      <td>l6yy64</td>\n",
       "      <td>2021-06-05 03:59:16</td>\n",
       "      <td>0.0</td>\n",
       "      <td></td>\n",
       "      <td>0.0</td>\n",
       "    </tr>\n",
       "    <tr>\n",
       "      <th>2302845</th>\n",
       "      <td>l6yy64</td>\n",
       "      <td>2021-06-05 04:09:16</td>\n",
       "      <td>0.0</td>\n",
       "      <td></td>\n",
       "      <td>0.0</td>\n",
       "    </tr>\n",
       "    <tr>\n",
       "      <th>2302846</th>\n",
       "      <td>l6yy64</td>\n",
       "      <td>2021-06-05 04:19:16</td>\n",
       "      <td>0.0</td>\n",
       "      <td></td>\n",
       "      <td>0.0</td>\n",
       "    </tr>\n",
       "    <tr>\n",
       "      <th>2302847</th>\n",
       "      <td>l6yy64</td>\n",
       "      <td>2021-06-05 04:29:16</td>\n",
       "      <td>0.0</td>\n",
       "      <td></td>\n",
       "      <td>0.0</td>\n",
       "    </tr>\n",
       "  </tbody>\n",
       "</table>\n",
       "<p>2302848 rows × 5 columns</p>\n",
       "</div>"
      ],
      "text/plain": [
       "        post_id             datetime  new_comments  \\\n",
       "0        l0hnrw  2021-01-19 11:00:33         105.0   \n",
       "1        l0hnrw  2021-01-19 11:10:33          62.0   \n",
       "2        l0hnrw  2021-01-19 11:20:33          68.0   \n",
       "3        l0hnrw  2021-01-19 11:30:33          84.0   \n",
       "4        l0hnrw  2021-01-19 11:40:33          60.0   \n",
       "...         ...                  ...           ...   \n",
       "2302843  l6yy64  2021-06-05 03:49:16           0.0   \n",
       "2302844  l6yy64  2021-06-05 03:59:16           0.0   \n",
       "2302845  l6yy64  2021-06-05 04:09:16           0.0   \n",
       "2302846  l6yy64  2021-06-05 04:19:16           0.0   \n",
       "2302847  l6yy64  2021-06-05 04:29:16           0.0   \n",
       "\n",
       "                                                     texts  cumsum  \n",
       "0        hi hi today fucking green gunna today fucking ...   105.0  \n",
       "1        die gang gme bb till die gang gme bb till time...   167.0  \n",
       "2        dropouts head listening pm trapt strong watchi...   235.0  \n",
       "3        deleted deleted ride bb ride bb open ashamed r...   319.0  \n",
       "4        insolvent make wsb mutual moment accidentally ...   379.0  \n",
       "...                                                    ...     ...  \n",
       "2302843                                                        0.0  \n",
       "2302844                                                        0.0  \n",
       "2302845                                                        0.0  \n",
       "2302846                                                        0.0  \n",
       "2302847                                                        0.0  \n",
       "\n",
       "[2302848 rows x 5 columns]"
      ]
     },
     "execution_count": 3,
     "metadata": {},
     "output_type": "execute_result"
    }
   ],
   "source": [
    "data"
   ]
  },
  {
   "cell_type": "code",
   "execution_count": 4,
   "id": "e346377b",
   "metadata": {},
   "outputs": [],
   "source": [
    "def reshape_for_lstm(df, x_columns: list, y_column: str, samples_per_post: int = 288, past: int = 6, future: int = 12):\n",
    "    assert df.shape[0] % samples_per_post == 0, 'Data shape not dividable by samples_per_post number'\n",
    "\n",
    "    x_list = []\n",
    "    y_list = []\n",
    "    for i in tqdm(range(0, df.shape[0], samples_per_post)):\n",
    "        subset = df.iloc[i:i + samples_per_post, :]\n",
    "        subset.reset_index(inplace=True)\n",
    "\n",
    "        x = subset.iloc[:past, :].loc[:, x_columns].to_numpy().reshape((past, len(x_columns)))\n",
    "        y = subset.iloc[future, subset.columns.get_loc(y_column)]\n",
    "\n",
    "        x_list.append(x)\n",
    "        y_list.append(y)\n",
    "\n",
    "    return np.array(x_list), np.array(y_list)"
   ]
  },
  {
   "cell_type": "code",
   "execution_count": 5,
   "id": "65730466",
   "metadata": {},
   "outputs": [
    {
     "name": "stderr",
     "output_type": "stream",
     "text": [
      "100%|██████████| 2/2 [00:00<00:00, 663.39it/s]\n"
     ]
    },
    {
     "data": {
      "text/plain": [
       "(array([[[105.],\n",
       "         [ 62.],\n",
       "         [ 68.],\n",
       "         [ 84.],\n",
       "         [ 60.],\n",
       "         [ 68.]],\n",
       " \n",
       "        [[  5.],\n",
       "         [  6.],\n",
       "         [  3.],\n",
       "         [  3.],\n",
       "         [  1.],\n",
       "         [  1.]]]),\n",
       " array([913.,  24.]))"
      ]
     },
     "execution_count": 5,
     "metadata": {},
     "output_type": "execute_result"
    }
   ],
   "source": [
    "reshape_for_lstm(data[:2*288], ['new_comments'], 'cumsum')"
   ]
  },
  {
   "cell_type": "code",
   "execution_count": 6,
   "id": "12e17080",
   "metadata": {},
   "outputs": [],
   "source": [
    "def train_test_split(df, test_size: float = 0.2, random_state: int = 130759):\n",
    "    ids_df = pd.DataFrame(df.post_id.unique())\n",
    "    test_ids = ids_df.sample(int(ids_df.shape[0] * test_size), random_state=random_state)\n",
    "\n",
    "    mask = df.post_id.isin(test_ids.iloc[:, 0])\n",
    "\n",
    "    return df[~mask], df[mask]"
   ]
  },
  {
   "cell_type": "code",
   "execution_count": 7,
   "id": "e6f0028f",
   "metadata": {},
   "outputs": [],
   "source": [
    "train, test = train_test_split(data)"
   ]
  },
  {
   "cell_type": "code",
   "execution_count": 8,
   "id": "4071b60b",
   "metadata": {},
   "outputs": [
    {
     "name": "stderr",
     "output_type": "stream",
     "text": [
      "100%|██████████| 1599/1599 [00:01<00:00, 930.25it/s]\n"
     ]
    }
   ],
   "source": [
    "x, y = reshape_for_lstm(test, ['new_comments'], 'cumsum')"
   ]
  },
  {
   "cell_type": "code",
   "execution_count": 9,
   "id": "6a062c90",
   "metadata": {},
   "outputs": [
    {
     "data": {
      "text/plain": [
       "0.0       323\n",
       "1.0       147\n",
       "2.0       121\n",
       "3.0        93\n",
       "4.0        81\n",
       "         ... \n",
       "235.0       1\n",
       "146.0       1\n",
       "384.0       1\n",
       "398.0       1\n",
       "1211.0      1\n",
       "Name: 0, Length: 169, dtype: int64"
      ]
     },
     "execution_count": 9,
     "metadata": {},
     "output_type": "execute_result"
    }
   ],
   "source": [
    "pd.DataFrame(y).iloc[:, 0].value_counts()"
   ]
  },
  {
   "cell_type": "code",
   "execution_count": 10,
   "id": "d3ebc8a4",
   "metadata": {},
   "outputs": [
    {
     "name": "stderr",
     "output_type": "stream",
     "text": [
      "100%|██████████| 6397/6397 [00:06<00:00, 961.60it/s] \n"
     ]
    }
   ],
   "source": [
    "a, b = reshape_for_lstm(train, ['new_comments'], 'cumsum')"
   ]
  },
  {
   "cell_type": "code",
   "execution_count": 11,
   "id": "4bf6b498",
   "metadata": {},
   "outputs": [
    {
     "data": {
      "text/plain": [
       "0.0      1207\n",
       "1.0       574\n",
       "2.0       538\n",
       "3.0       433\n",
       "4.0       351\n",
       "         ... \n",
       "253.0       1\n",
       "148.0       1\n",
       "197.0       1\n",
       "164.0       1\n",
       "215.0       1\n",
       "Name: 0, Length: 298, dtype: int64"
      ]
     },
     "execution_count": 11,
     "metadata": {},
     "output_type": "execute_result"
    }
   ],
   "source": [
    "pd.DataFrame(b).iloc[:, 0].value_counts()"
   ]
  },
  {
   "cell_type": "code",
   "execution_count": 12,
   "id": "f3abc4ab",
   "metadata": {},
   "outputs": [
    {
     "data": {
      "text/html": [
       "<div>\n",
       "<style scoped>\n",
       "    .dataframe tbody tr th:only-of-type {\n",
       "        vertical-align: middle;\n",
       "    }\n",
       "\n",
       "    .dataframe tbody tr th {\n",
       "        vertical-align: top;\n",
       "    }\n",
       "\n",
       "    .dataframe thead th {\n",
       "        text-align: right;\n",
       "    }\n",
       "</style>\n",
       "<table border=\"1\" class=\"dataframe\">\n",
       "  <thead>\n",
       "    <tr style=\"text-align: right;\">\n",
       "      <th></th>\n",
       "      <th>post_id</th>\n",
       "      <th>datetime</th>\n",
       "      <th>new_comments</th>\n",
       "      <th>texts</th>\n",
       "      <th>cumsum</th>\n",
       "    </tr>\n",
       "  </thead>\n",
       "  <tbody>\n",
       "    <tr>\n",
       "      <th>0</th>\n",
       "      <td>l0hnrw</td>\n",
       "      <td>2021-01-19 11:00:33</td>\n",
       "      <td>105.0</td>\n",
       "      <td>hi hi today fucking green gunna today fucking ...</td>\n",
       "      <td>105.0</td>\n",
       "    </tr>\n",
       "    <tr>\n",
       "      <th>1</th>\n",
       "      <td>l0hnrw</td>\n",
       "      <td>2021-01-19 11:10:33</td>\n",
       "      <td>62.0</td>\n",
       "      <td>die gang gme bb till die gang gme bb till time...</td>\n",
       "      <td>167.0</td>\n",
       "    </tr>\n",
       "    <tr>\n",
       "      <th>2</th>\n",
       "      <td>l0hnrw</td>\n",
       "      <td>2021-01-19 11:20:33</td>\n",
       "      <td>68.0</td>\n",
       "      <td>dropouts head listening pm trapt strong watchi...</td>\n",
       "      <td>235.0</td>\n",
       "    </tr>\n",
       "    <tr>\n",
       "      <th>3</th>\n",
       "      <td>l0hnrw</td>\n",
       "      <td>2021-01-19 11:30:33</td>\n",
       "      <td>84.0</td>\n",
       "      <td>deleted deleted ride bb ride bb open ashamed r...</td>\n",
       "      <td>319.0</td>\n",
       "    </tr>\n",
       "    <tr>\n",
       "      <th>4</th>\n",
       "      <td>l0hnrw</td>\n",
       "      <td>2021-01-19 11:40:33</td>\n",
       "      <td>60.0</td>\n",
       "      <td>insolvent make wsb mutual moment accidentally ...</td>\n",
       "      <td>379.0</td>\n",
       "    </tr>\n",
       "    <tr>\n",
       "      <th>...</th>\n",
       "      <td>...</td>\n",
       "      <td>...</td>\n",
       "      <td>...</td>\n",
       "      <td>...</td>\n",
       "      <td>...</td>\n",
       "    </tr>\n",
       "    <tr>\n",
       "      <th>2302555</th>\n",
       "      <td>l692zd</td>\n",
       "      <td>2021-05-30 16:10:47</td>\n",
       "      <td>0.0</td>\n",
       "      <td></td>\n",
       "      <td>1.0</td>\n",
       "    </tr>\n",
       "    <tr>\n",
       "      <th>2302556</th>\n",
       "      <td>l692zd</td>\n",
       "      <td>2021-05-30 16:20:47</td>\n",
       "      <td>0.0</td>\n",
       "      <td></td>\n",
       "      <td>1.0</td>\n",
       "    </tr>\n",
       "    <tr>\n",
       "      <th>2302557</th>\n",
       "      <td>l692zd</td>\n",
       "      <td>2021-05-30 16:30:47</td>\n",
       "      <td>0.0</td>\n",
       "      <td></td>\n",
       "      <td>1.0</td>\n",
       "    </tr>\n",
       "    <tr>\n",
       "      <th>2302558</th>\n",
       "      <td>l692zd</td>\n",
       "      <td>2021-05-30 16:40:47</td>\n",
       "      <td>0.0</td>\n",
       "      <td></td>\n",
       "      <td>1.0</td>\n",
       "    </tr>\n",
       "    <tr>\n",
       "      <th>2302559</th>\n",
       "      <td>l692zd</td>\n",
       "      <td>2021-05-30 16:50:47</td>\n",
       "      <td>0.0</td>\n",
       "      <td></td>\n",
       "      <td>1.0</td>\n",
       "    </tr>\n",
       "  </tbody>\n",
       "</table>\n",
       "<p>1875686 rows × 5 columns</p>\n",
       "</div>"
      ],
      "text/plain": [
       "        post_id             datetime  new_comments  \\\n",
       "0        l0hnrw  2021-01-19 11:00:33         105.0   \n",
       "1        l0hnrw  2021-01-19 11:10:33          62.0   \n",
       "2        l0hnrw  2021-01-19 11:20:33          68.0   \n",
       "3        l0hnrw  2021-01-19 11:30:33          84.0   \n",
       "4        l0hnrw  2021-01-19 11:40:33          60.0   \n",
       "...         ...                  ...           ...   \n",
       "2302555  l692zd  2021-05-30 16:10:47           0.0   \n",
       "2302556  l692zd  2021-05-30 16:20:47           0.0   \n",
       "2302557  l692zd  2021-05-30 16:30:47           0.0   \n",
       "2302558  l692zd  2021-05-30 16:40:47           0.0   \n",
       "2302559  l692zd  2021-05-30 16:50:47           0.0   \n",
       "\n",
       "                                                     texts  cumsum  \n",
       "0        hi hi today fucking green gunna today fucking ...   105.0  \n",
       "1        die gang gme bb till die gang gme bb till time...   167.0  \n",
       "2        dropouts head listening pm trapt strong watchi...   235.0  \n",
       "3        deleted deleted ride bb ride bb open ashamed r...   319.0  \n",
       "4        insolvent make wsb mutual moment accidentally ...   379.0  \n",
       "...                                                    ...     ...  \n",
       "2302555                                                        1.0  \n",
       "2302556                                                        1.0  \n",
       "2302557                                                        1.0  \n",
       "2302558                                                        1.0  \n",
       "2302559                                                        1.0  \n",
       "\n",
       "[1875686 rows x 5 columns]"
      ]
     },
     "execution_count": 12,
     "metadata": {},
     "output_type": "execute_result"
    }
   ],
   "source": [
    "data[data['cumsum'] > 0.0]"
   ]
  },
  {
   "cell_type": "code",
   "execution_count": 13,
   "id": "c52b4e86",
   "metadata": {},
   "outputs": [],
   "source": [
    "def get_cumulative(df):\n",
    "    result_df = pd.DataFrame()\n",
    "\n",
    "    for id_ in tqdm(df.post_id.unique()):\n",
    "        subset = df[df.post_id == id_]\n",
    "        subset.loc[:, 'cumsum'] = subset.new_comments.cumsum()\n",
    "\n",
    "        result_df = result_df.append(subset)\n",
    "\n",
    "    return result_df"
   ]
  },
  {
   "cell_type": "code",
   "execution_count": 14,
   "id": "d69e403f",
   "metadata": {},
   "outputs": [],
   "source": [
    "# dummy = get_cumulative(data)"
   ]
  },
  {
   "cell_type": "code",
   "execution_count": 15,
   "id": "77c51f54",
   "metadata": {},
   "outputs": [],
   "source": [
    "# from data import save_dataset"
   ]
  },
  {
   "cell_type": "code",
   "execution_count": 16,
   "id": "a9ee023c",
   "metadata": {},
   "outputs": [],
   "source": [
    "# save_dataset(dummy, 'timeseries_v4.1.csv')"
   ]
  },
  {
   "cell_type": "code",
   "execution_count": 55,
   "id": "aaaee5ab",
   "metadata": {},
   "outputs": [],
   "source": [
    "def plot(plot_data, future, y_pred, y_true, title):\n",
    "    labels = [\"History\", \"True Future\", \"Model Prediction\"]\n",
    "    marker = [\".-\", \"rx\", \"go\"]\n",
    "#     time_steps = list(range(-(plot_data[0].shape[0]), 0))\n",
    "    time_steps = [-x * 10 for x in range(len(plot_data), 0, -1)]\n",
    "\n",
    "    plt.title(title)\n",
    "#     for i, val in enumerate(plot_data):\n",
    "#         if i:\n",
    "#             plt.plot(future, plot_data[i], marker[i], markersize=10, label=labels[i])\n",
    "#         else:\n",
    "#             plt.plot(time_steps, plot_data[i].flatten(), marker[i], label=labels[i])\n",
    "    plt.plot(time_steps, plot_data, marker[0], markersize=10, label=labels[0])\n",
    "    plt.plot([future], [y_pred], marker[2], label=labels[2])\n",
    "    plt.plot([future], [y_true], marker[1], label=labels[1])\n",
    "            \n",
    "    plt.legend()\n",
    "    plt.xlim([time_steps[0], (future + 5) * 2])\n",
    "    plt.xlabel(\"Time-Step\")\n",
    "    plt.show()\n",
    "    return"
   ]
  },
  {
   "cell_type": "code",
   "execution_count": 56,
   "id": "161ffbc1",
   "metadata": {},
   "outputs": [
    {
     "data": {
      "image/png": "[encoded data removed]",
      "text/plain": [
       "<Figure size 432x288 with 1 Axes>"
      ]
     },
     "metadata": {
      "needs_background": "light"
     },
     "output_type": "display_data"
    },
    {
     "data": {
      "text/plain": [
       "[-60, -50, -40, -30, -20, -10]"
      ]
     },
     "execution_count": 56,
     "metadata": {},
     "output_type": "execute_result"
    }
   ],
   "source": [
    "ss = [a[0][x][0] for x in range(len(a[0]))]\n",
    "plot(ss, 60, 24, 30, 'derp')\n",
    "[-x * 10 for x in range(len(ss), 0, -1)]"
   ]
  },
  {
   "cell_type": "code",
   "execution_count": 21,
   "id": "0d27da65",
   "metadata": {},
   "outputs": [],
   "source": [
    "from matplotlib import pyplot as plt"
   ]
  },
  {
   "cell_type": "code",
   "execution_count": 35,
   "id": "72c8a9e6",
   "metadata": {},
   "outputs": [
    {
     "data": {
      "text/plain": [
       "[105.0, 62.0, 68.0, 84.0, 60.0, 68.0]"
      ]
     },
     "execution_count": 35,
     "metadata": {},
     "output_type": "execute_result"
    }
   ],
   "source": [
    "[a[0][x][0] for x in range(len(a[0]))]"
   ]
  },
  {
   "cell_type": "code",
   "execution_count": 29,
   "id": "90f95d04",
   "metadata": {},
   "outputs": [
    {
     "data": {
      "text/plain": [
       "array([[105.],\n",
       "       [ 62.],\n",
       "       [ 68.],\n",
       "       [ 84.],\n",
       "       [ 60.],\n",
       "       [ 68.]])"
      ]
     },
     "execution_count": 29,
     "metadata": {},
     "output_type": "execute_result"
    }
   ],
   "source": [
    "a[0]"
   ]
  },
  {
   "cell_type": "code",
   "execution_count": 57,
   "id": "498edf57",
   "metadata": {},
   "outputs": [
    {
     "data": {
      "text/plain": [
       "913.0"
      ]
     },
     "execution_count": 57,
     "metadata": {},
     "output_type": "execute_result"
    }
   ],
   "source": [
    "b[0]"
   ]
  },
  {
   "cell_type": "code",
   "execution_count": null,
   "id": "8bc27a38",
   "metadata": {},
   "outputs": [],
   "source": []
  }
 ],
 "metadata": {
  "kernelspec": {
   "display_name": "Python 3",
   "language": "python",
   "name": "python3"
  },
  "language_info": {
   "codemirror_mode": {
    "name": "ipython",
    "version": 3
   },
   "file_extension": ".py",
   "mimetype": "text/x-python",
   "name": "python",
   "nbconvert_exporter": "python",
   "pygments_lexer": "ipython3",
   "version": "3.8.5"
  }
 },
 "nbformat": 4,
 "nbformat_minor": 5
}
