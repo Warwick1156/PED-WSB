{
 "cells": [
  {
   "cell_type": "markdown",
   "id": "2f82b456",
   "metadata": {},
   "source": [
    "# Checkpoint 1 - 2\n"
   ]
  },
  {
   "cell_type": "markdown",
   "id": "e899165d",
   "metadata": {},
   "source": [
    "- Sentyment dla body, title\n",
    "- wartości HSV dla obrazów\n",
    "- Lematyzacje \n",
    "- Cenę i volume akcji GME\n",
    "- Keras OCR dla wszystkich obrazków\n"
   ]
  },
  {
   "cell_type": "markdown",
   "id": "2fafadc0",
   "metadata": {},
   "source": [
    "# Checkpoint 3"
   ]
  },
  {
   "cell_type": "markdown",
   "id": "5212be81",
   "metadata": {},
   "source": [
    "- Prównanie korelacji Spearmana i Pearsona\n",
    "- Ponowna ocena uwzględniajaca nowe atrybuty"
   ]
  },
  {
   "cell_type": "markdown",
   "id": "ab128563",
   "metadata": {},
   "source": [
    "# Checkpoint 4"
   ]
  },
  {
   "cell_type": "markdown",
   "id": "9935e849",
   "metadata": {},
   "source": [
    "- Dodanie modeli głębokich"
   ]
  },
  {
   "cell_type": "markdown",
   "id": "62db5836",
   "metadata": {},
   "source": [
    "# Checkpoint 5"
   ]
  },
  {
   "cell_type": "markdown",
   "id": "47ec6c68",
   "metadata": {},
   "source": [
    "- Pobranie wszystkich komentarzy tylko dla wybranych postów"
   ]
  },
  {
   "cell_type": "code",
   "execution_count": null,
   "id": "48cd0919",
   "metadata": {},
   "outputs": [],
   "source": []
  }
 ],
 "metadata": {
  "kernelspec": {
   "display_name": "Python 3",
   "language": "python",
   "name": "python3"
  },
  "language_info": {
   "codemirror_mode": {
    "name": "ipython",
    "version": 3
   },
   "file_extension": ".py",
   "mimetype": "text/x-python",
   "name": "python",
   "nbconvert_exporter": "python",
   "pygments_lexer": "ipython3",
   "version": "3.8.5"
  }
 },
 "nbformat": 4,
 "nbformat_minor": 5
}
