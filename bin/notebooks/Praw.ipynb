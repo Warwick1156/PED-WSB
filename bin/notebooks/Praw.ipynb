{
 "cells": [
  {
   "cell_type": "code",
   "execution_count": 1,
   "metadata": {},
   "outputs": [],
   "source": [
    "import os\n",
    "import ast\n",
    "import sys\n",
    "src_dir = os.path.join('..', 'src')\n",
    "sys.path.append(os.path.abspath(src_dir))\n",
    "\n",
    "import requests\n",
    "import json\n",
    "from os import path as osp\n",
    "from datetime import datetime, timedelta\n",
    "import praw\n",
    "\n",
    "from security import KeyHandler\n",
    "from data import path\n",
    "\n",
    "VERSION = 'PedAPI/0.0.3'\n",
    "\n",
    "\n",
    "class RedditClient:\n",
    "    def __init__(self, verbose: bool = True):\n",
    "        self.verbose_print = print if verbose else lambda *a, **k: None\n",
    "        self.save_path = path(\"comments\")\n",
    "\n",
    "        self.session_time_out = datetime.now()\n",
    "        self.kh = KeyHandler()\n",
    "        self._login()\n",
    "        self.save_path = path(\"comments\")\n",
    "\n",
    "    def _login(self):\n",
    "        authorization = requests.auth.HTTPBasicAuth(\n",
    "            self.kh.client_id,\n",
    "            self.kh.secret_key)\n",
    "\n",
    "        self.kh.headers['User-Agent'] = VERSION\n",
    "        res = requests.post('https://www.reddit.com/api/v1/access_token',\n",
    "                            auth=authorization,\n",
    "                            data=self.kh.login_data,\n",
    "                            headers=self.kh.headers)\n",
    "        self.session_time_out = datetime.now() + timedelta(seconds=res.json()['expires_in'] - 60)\n",
    "\n",
    "        token = res.json()['access_token']\n",
    "        self.kh.headers['Authorization'] = f'bearer {token}'\n",
    "\n",
    "        assert self._test_authentication()\n",
    "        self.verbose_print('Successfully logged as {}'.format(self.kh.login_data['username']))\n",
    "        self.verbose_print('Session expires on {}'.format(str(self.session_time_out)))\n",
    "\n",
    "    def _test_authentication(self):\n",
    "        if requests.get('https://oautch.reddit.com/api/v1/me', headers=self.kh.headers).status_code == 200:\n",
    "            return True\n",
    "        return False\n",
    "\n",
    "    def _manage_session_time_out(self):\n",
    "        if datetime.now() > self.session_time_out:\n",
    "            self.verbose_print('Renewing session...')\n",
    "            self._login()\n",
    "\n",
    "    def get_comments(self, post_id: str):\n",
    "        self._manage_session_time_out()\n",
    "\n",
    "        link = 'https://oauth.reddit.com/r/wallstreetbets/comments/'\n",
    "        res = requests.get(link + post_id, headers=self.kh.headers)\n",
    "\n",
    "        with open(osp.join(self.save_path, post_id + '.json'), 'w') as outfile:\n",
    "            json.dump(res.json(), outfile, indent=4)\n",
    "\n",
    "\n",
    "class Praw:\n",
    "    def __init__(self, verbose: bool = True):\n",
    "        self.verbose_print = print if verbose else lambda *a, **k: None\n",
    "\n",
    "        self.kh = KeyHandler()\n",
    "        self._login()\n",
    "\n",
    "    def _login(self):\n",
    "        self.reddit = praw.Reddit(\n",
    "            client_id=self.kh.client_id,\n",
    "            client_secret=self.kh.secret_key,\n",
    "            user_agent=VERSION,\n",
    "            username=self.kh.login_data['username'],\n",
    "            password=self.kh.login_data['password']\n",
    "        )\n",
    "\n",
    "    def get_submission(self, id_):\n",
    "        return self.reddit.submission(id=id_)\n"
   ]
  },
  {
   "cell_type": "code",
   "execution_count": 2,
   "metadata": {},
   "outputs": [],
   "source": [
    "client = Praw()"
   ]
  },
  {
   "cell_type": "code",
   "execution_count": null,
   "metadata": {},
   "outputs": [],
   "source": [
    "from time import sleep"
   ]
  },
  {
   "cell_type": "code",
   "execution_count": 3,
   "metadata": {},
   "outputs": [],
   "source": [
    "submission = client.get_submission('nrblju')"
   ]
  },
  {
   "cell_type": "code",
   "execution_count": 4,
   "metadata": {},
   "outputs": [
    {
     "name": "stdout",
     "output_type": "stream",
     "text": [
      "0 Main mods I'm using are More Archotech Garbage, Science never stops AOTC, Rimatomics, Rimfactory, Misc Robots, VFE mechs plus a bunch of OP enemy factions to try (and fail) to balance the AOTC stuff a bit.\n",
      "\n",
      "I've retextured the Cosmic reactors from AOTC as well to fit in more with the Archotech style of the base.  \n",
      "\n",
      "\n",
      "Also I wouldn't suggest doing a circle style base, it is ridiculously resource and work intensive, does look pretty cool though. 1622721313.0\n",
      "1 Ah, yes, the Arcotech and glitter tech \"hell hole\". Let's be clear, if you offer me a ride off of this base, I'll stay on the base. Pretty sure it's self sufficient at this point. 1622728569.0\n",
      "2 I don't get how people can make such aesthetic bases. It's utilitarian rectangles all the way for me... 1622740894.0\n",
      "3 A circular kill box... intriguing. 1622722668.0\n",
      "4 Round AND mountain? Now this is quite the rare sight, most mountain bases on here are boxy and aren’t such an interesting shape. Good job. 1622722889.0\n",
      "5 Off to crash somewhere else that might actually worse than the colony we live in. 1622728425.0\n",
      "6 How. My Colonists are enough retarded to die in the first couple of hrs because of a mental break or smth 1622744268.0\n",
      "7 Very pretty! With that much under mountain, how were the Infestations? 1622730546.0\n",
      "8 You can really get a feel for how this base has grown. It looks organic, like a natural melding of nature and archotech. Good job on doing something different 1622799026.0\n",
      "9 Raiders will return after attacking this base screaming about \"UNNATURAL SHAPES\" and \"UNHOLY CURVES!\" 1622747245.0\n",
      "10 what is the mod that adds bathrooms 1622738587.0\n",
      "11 Hell hole?\n",
      "\n",
      "\n",
      "Bro this looks better than mine most luxiours bases 1622760443.0\n",
      "12 I'm surprised the performance was stable enough to last this long with mods 1622761216.0\n",
      "13 FYI you can put traps inside that winding path towards the kill box in order to force raiders to step on them. Nice working making your kill box over water, after they're through the traps you want raiders to move as slowly as possible. 1622769590.0\n",
      "14 Cool layout 1622776091.0\n",
      "15 the base looks like a running tank robot 1622776910.0\n",
      "16 i'm bad at the game, but jesus christ, every time i see one of these colonies i wonder \"how do you do all that in that little time\"  \n",
      "\n",
      "\n",
      "my current colony has lasted 7 years and hasn't even begun ship research 1622786505.0\n",
      "17 Hey hey hey\n",
      "What mod is the ship? 1622790004.0\n",
      "18 This is why I am on this subreddit 1622797427.0\n",
      "19 So many All-Seeing-Eyes...just....staring at me.... 1622798798.0\n",
      "20 My god what are all of these things 1622802945.0\n",
      "21 Why is everyone judging his base, he can build it how he wants, leave the guy alone 1622816247.0\n",
      "22 That's a lot of xenomorph blood 1622970540.0\n",
      "23 Which mod adds the walls that you can shoot through? 1622748073.0\n",
      "24 What's the seed brother? 1622761347.0\n"
     ]
    }
   ],
   "source": [
    "for i, top_level_comment in enumerate(submission.comments):\n",
    "    while True:\n",
    "        try:\n",
    "            submission.comments.replace_more(None)\n",
    "            break\n",
    "        except:\n",
    "            print(\"Handling replace_more exception\")\n",
    "            sleep(1)\n",
    "            \n",
    "    print(i, top_level_comment.body, top_level_comment.created_utc)"
   ]
  },
  {
   "cell_type": "code",
   "execution_count": 5,
   "metadata": {},
   "outputs": [
    {
     "data": {
      "text/plain": [
       "54"
      ]
     },
     "execution_count": 5,
     "metadata": {},
     "output_type": "execute_result"
    }
   ],
   "source": [
    "submission.num_comments"
   ]
  },
  {
   "cell_type": "code",
   "execution_count": 6,
   "metadata": {},
   "outputs": [],
   "source": [
    "wanted = set(['all_awardings', 'body', 'created', 'created_utc', 'depth', 'downs', 'id', 'parent_id', 'replies', 'score', 'ups', 'data', 'kind', 'children', 'name'])"
   ]
  },
  {
   "cell_type": "code",
   "execution_count": 27,
   "metadata": {},
   "outputs": [],
   "source": [
    "import pandas as pd\n",
    "import numpy as np\n",
    "\n",
    "from time import time, sleep\n",
    "\n",
    "def replace_more(submission):\n",
    "    while True:\n",
    "        try:\n",
    "            submission.comments.replace_more()\n",
    "            break\n",
    "        except:\n",
    "            print(\"Handling replace_more exception\")\n",
    "            sleep(1)\n",
    "\n",
    "def obtain_comments_for_id(praw_client, submission_id):\n",
    "    starttime = time()\n",
    "    print(\"Obtaining comments for submission '{}'...\".format(submission_id), end='', flush=True)\n",
    "    \n",
    "    submission = praw_client.get_submission(submission_id)\n",
    "\n",
    "    replace_more(submission)\n",
    "    \n",
    "    res = [obtain_comments(comment, submission_id) for comment in list(submission.comments)]\n",
    "    \n",
    "    if len(res) > 0:\n",
    "        df = pd.concat(res, ignore_index=True)\n",
    "        print(\" [{} comments]\".format(df.shape[0]), end='', flush=True)\n",
    "    else:\n",
    "        no_comments = [['', '', submission_id, '', 0, -1, 0, 0, 0]]\n",
    "        df = pd.DataFrame(np.array(no_comments))\n",
    "        print(\" [no comments]\", end='', flush=True)\n",
    "\n",
    "    df.columns = ['id', 'parent_id', 'post_id', 'body', 'created_utc', 'depth', 'score', 'ups', 'downs']\n",
    "    print(\"   finished in {} sec\".format(np.around(time()-starttime,2)))\n",
    "    return df\n",
    "    \n",
    "\n",
    "def obtain_comments(comment, submission_id):\n",
    "\n",
    "    item = [comment.id, comment.parent_id[3:], submission_id, comment.body, comment.created_utc, comment.depth, comment.score, comment.ups, comment.downs]\n",
    "        \n",
    "    replies = []\n",
    "    for reply in list(comment.replies):\n",
    "        replies.extend([obtain_comments(reply, submission_id)])\n",
    "    \n",
    "    return pd.concat([pd.DataFrame(np.array([item]))] + replies)"
   ]
  },
  {
   "cell_type": "code",
   "execution_count": 8,
   "metadata": {},
   "outputs": [
    {
     "name": "stdout",
     "output_type": "stream",
     "text": [
      "Obtaining comments for submission 'nrblju'... [54 comments]   finished in 0.52 sec\n"
     ]
    },
    {
     "data": {
      "text/html": [
       "<div>\n",
       "<style scoped>\n",
       "    .dataframe tbody tr th:only-of-type {\n",
       "        vertical-align: middle;\n",
       "    }\n",
       "\n",
       "    .dataframe tbody tr th {\n",
       "        vertical-align: top;\n",
       "    }\n",
       "\n",
       "    .dataframe thead th {\n",
       "        text-align: right;\n",
       "    }\n",
       "</style>\n",
       "<table border=\"1\" class=\"dataframe\">\n",
       "  <thead>\n",
       "    <tr style=\"text-align: right;\">\n",
       "      <th></th>\n",
       "      <th>id</th>\n",
       "      <th>parent_id</th>\n",
       "      <th>post_id</th>\n",
       "      <th>body</th>\n",
       "      <th>created_utc</th>\n",
       "      <th>depth</th>\n",
       "      <th>score</th>\n",
       "      <th>ups</th>\n",
       "      <th>downs</th>\n",
       "    </tr>\n",
       "  </thead>\n",
       "  <tbody>\n",
       "    <tr>\n",
       "      <th>0</th>\n",
       "      <td>h0fg6t4</td>\n",
       "      <td>nrblju</td>\n",
       "      <td>nrblju</td>\n",
       "      <td>Main mods I'm using are More Archotech Garbage...</td>\n",
       "      <td>1622721313.0</td>\n",
       "      <td>0</td>\n",
       "      <td>42</td>\n",
       "      <td>42</td>\n",
       "      <td>0</td>\n",
       "    </tr>\n",
       "    <tr>\n",
       "      <th>1</th>\n",
       "      <td>h0gj95t</td>\n",
       "      <td>h0fg6t4</td>\n",
       "      <td>nrblju</td>\n",
       "      <td>Why circles? Only my warehouses, stables and g...</td>\n",
       "      <td>1622738934.0</td>\n",
       "      <td>1</td>\n",
       "      <td>10</td>\n",
       "      <td>10</td>\n",
       "      <td>0</td>\n",
       "    </tr>\n",
       "    <tr>\n",
       "      <th>2</th>\n",
       "      <td>h0h7rr1</td>\n",
       "      <td>h0gj95t</td>\n",
       "      <td>nrblju</td>\n",
       "      <td>I've just done a lot of square boxy bases with...</td>\n",
       "      <td>1622749153.0</td>\n",
       "      <td>2</td>\n",
       "      <td>14</td>\n",
       "      <td>14</td>\n",
       "      <td>0</td>\n",
       "    </tr>\n",
       "  </tbody>\n",
       "</table>\n",
       "</div>"
      ],
      "text/plain": [
       "        id parent_id post_id  \\\n",
       "0  h0fg6t4    nrblju  nrblju   \n",
       "1  h0gj95t   h0fg6t4  nrblju   \n",
       "2  h0h7rr1   h0gj95t  nrblju   \n",
       "\n",
       "                                                body   created_utc depth  \\\n",
       "0  Main mods I'm using are More Archotech Garbage...  1622721313.0     0   \n",
       "1  Why circles? Only my warehouses, stables and g...  1622738934.0     1   \n",
       "2  I've just done a lot of square boxy bases with...  1622749153.0     2   \n",
       "\n",
       "  score ups downs  \n",
       "0    42  42     0  \n",
       "1    10  10     0  \n",
       "2    14  14     0  "
      ]
     },
     "execution_count": 8,
     "metadata": {},
     "output_type": "execute_result"
    }
   ],
   "source": [
    "obtain_comments_for_id(client, 'nrblju')[:3]"
   ]
  },
  {
   "cell_type": "code",
   "execution_count": 24,
   "metadata": {},
   "outputs": [],
   "source": [
    "def identity(x: str) -> str:\n",
    "    return x"
   ]
  },
  {
   "cell_type": "code",
   "execution_count": 25,
   "metadata": {},
   "outputs": [
    {
     "data": {
      "text/plain": [
       "12"
      ]
     },
     "execution_count": 25,
     "metadata": {},
     "output_type": "execute_result"
    }
   ],
   "source": [
    "identity(12)"
   ]
  },
  {
   "cell_type": "code",
   "execution_count": 26,
   "metadata": {},
   "outputs": [],
   "source": [
    "from time import sleep"
   ]
  },
  {
   "cell_type": "code",
   "execution_count": 11,
   "metadata": {},
   "outputs": [],
   "source": [
    "import os\n",
    "import sys\n",
    "src_dir = os.path.join('..', 'src')\n",
    "sys.path.append(os.path.abspath(src_dir))\n",
    "\n",
    "from data import save_dataset, get_dataset\n",
    "from num_comments import sample_submissions"
   ]
  },
  {
   "cell_type": "code",
   "execution_count": 12,
   "metadata": {},
   "outputs": [
    {
     "name": "stdout",
     "output_type": "stream",
     "text": [
      "../../data/datasets/num_comments.csv\n"
     ]
    }
   ],
   "source": [
    "data = get_dataset('num_comments.csv')"
   ]
  },
  {
   "cell_type": "code",
   "execution_count": 13,
   "metadata": {},
   "outputs": [
    {
     "data": {
      "text/html": [
       "<div>\n",
       "<style scoped>\n",
       "    .dataframe tbody tr th:only-of-type {\n",
       "        vertical-align: middle;\n",
       "    }\n",
       "\n",
       "    .dataframe tbody tr th {\n",
       "        vertical-align: top;\n",
       "    }\n",
       "\n",
       "    .dataframe thead th {\n",
       "        text-align: right;\n",
       "    }\n",
       "</style>\n",
       "<table border=\"1\" class=\"dataframe\">\n",
       "  <thead>\n",
       "    <tr style=\"text-align: right;\">\n",
       "      <th></th>\n",
       "      <th>id</th>\n",
       "      <th>title</th>\n",
       "      <th>score</th>\n",
       "      <th>url</th>\n",
       "      <th>comms_num</th>\n",
       "      <th>created</th>\n",
       "      <th>body</th>\n",
       "      <th>timestamp</th>\n",
       "      <th>upvote_ratio</th>\n",
       "      <th>is_oc</th>\n",
       "      <th>...</th>\n",
       "      <th>body_stem_tokens</th>\n",
       "      <th>image_hue</th>\n",
       "      <th>image_sat</th>\n",
       "      <th>image_val</th>\n",
       "      <th>image_label</th>\n",
       "      <th>gme_price</th>\n",
       "      <th>gme_volume</th>\n",
       "      <th>ocr_text</th>\n",
       "      <th>ocr_text_word_count</th>\n",
       "      <th>num_comments</th>\n",
       "    </tr>\n",
       "  </thead>\n",
       "  <tbody>\n",
       "    <tr>\n",
       "      <th>10665</th>\n",
       "      <td>l6b909</td>\n",
       "      <td>🚨🚨FAKE NEWS🚨🚨</td>\n",
       "      <td>11</td>\n",
       "      <td>https://i.redd.it/fep2zut65xd61.jpg</td>\n",
       "      <td>0</td>\n",
       "      <td>1.611772e+09</td>\n",
       "      <td>NaN</td>\n",
       "      <td>Wed Jan 27 19:32:30 2021</td>\n",
       "      <td>0.91</td>\n",
       "      <td>False</td>\n",
       "      <td>...</td>\n",
       "      <td>['nan']</td>\n",
       "      <td>0.490841</td>\n",
       "      <td>0.490841</td>\n",
       "      <td>0.490841</td>\n",
       "      <td>television</td>\n",
       "      <td>345.329987</td>\n",
       "      <td>7113878</td>\n",
       "      <td>['option', 'activity', 'gamestop', 'open', 'in...</td>\n",
       "      <td>42</td>\n",
       "      <td>0</td>\n",
       "    </tr>\n",
       "  </tbody>\n",
       "</table>\n",
       "<p>1 rows × 47 columns</p>\n",
       "</div>"
      ],
      "text/plain": [
       "           id          title  score                                  url  \\\n",
       "10665  l6b909  🚨🚨FAKE NEWS🚨🚨     11  https://i.redd.it/fep2zut65xd61.jpg   \n",
       "\n",
       "       comms_num       created body                 timestamp  upvote_ratio  \\\n",
       "10665          0  1.611772e+09  NaN  Wed Jan 27 19:32:30 2021          0.91   \n",
       "\n",
       "       is_oc  ... body_stem_tokens image_hue  image_sat  image_val  \\\n",
       "10665  False  ...          ['nan']  0.490841   0.490841   0.490841   \n",
       "\n",
       "       image_label   gme_price  gme_volume  \\\n",
       "10665   television  345.329987     7113878   \n",
       "\n",
       "                                                ocr_text  ocr_text_word_count  \\\n",
       "10665  ['option', 'activity', 'gamestop', 'open', 'in...                   42   \n",
       "\n",
       "      num_comments  \n",
       "10665            0  \n",
       "\n",
       "[1 rows x 47 columns]"
      ]
     },
     "execution_count": 13,
     "metadata": {},
     "output_type": "execute_result"
    }
   ],
   "source": [
    "sampled = sample_submissions(data)\n",
    "sampled[:1]"
   ]
  },
  {
   "cell_type": "code",
   "execution_count": 14,
   "metadata": {},
   "outputs": [
    {
     "data": {
      "text/plain": [
       "(80, 47)"
      ]
     },
     "execution_count": 14,
     "metadata": {},
     "output_type": "execute_result"
    }
   ],
   "source": [
    "cut = sampled[sampled.num_comments >= sampled.num_comments.quantile(0.99)].copy()\n",
    "cut.sort_values(by=['num_comments'], inplace=True)\n",
    "cut.shape"
   ]
  },
  {
   "cell_type": "code",
   "execution_count": 29,
   "metadata": {
    "scrolled": false
   },
   "outputs": [
    {
     "data": {
      "application/vnd.jupyter.widget-view+json": {
       "model_id": "29def8ec2d6345589f176038eeda371b",
       "version_major": 2,
       "version_minor": 0
      },
      "text/plain": [
       "HBox(children=(FloatProgress(value=0.0, max=1.0), HTML(value='')))"
      ]
     },
     "metadata": {},
     "output_type": "display_data"
    },
    {
     "name": "stdout",
     "output_type": "stream",
     "text": [
      "Obtaining comments for submission 'l6er79'...Handling replace_more exception\n",
      "Handling replace_more exception\n",
      " [3636 comments]   finished in 141.81 sec\n",
      "\n"
     ]
    }
   ],
   "source": [
    "from tqdm.notebook import tqdm\n",
    "\n",
    "# df = obtain_comments_for_id(client, cut.id[0])\n",
    "\n",
    "i = 8000\n",
    "for subm_id in tqdm(cut.id[-1:]):\n",
    "    i += 1\n",
    "    \n",
    "    df = df.append(obtain_comments_for_id(client, subm_id))\n",
    "    \n",
    "#     if i % 10 == 0:\n",
    "#         print(\"Autosaving {}\".format(i))\n",
    "#         save_dataset(df, 'new_comments_autosave_{}.csv'.format(i))\n",
    "\n",
    "save_dataset(df, 'new_comments_all_greatest_80.csv')"
   ]
  },
  {
   "cell_type": "code",
   "execution_count": 21,
   "metadata": {},
   "outputs": [
    {
     "data": {
      "text/html": [
       "<div>\n",
       "<style scoped>\n",
       "    .dataframe tbody tr th:only-of-type {\n",
       "        vertical-align: middle;\n",
       "    }\n",
       "\n",
       "    .dataframe tbody tr th {\n",
       "        vertical-align: top;\n",
       "    }\n",
       "\n",
       "    .dataframe thead th {\n",
       "        text-align: right;\n",
       "    }\n",
       "</style>\n",
       "<table border=\"1\" class=\"dataframe\">\n",
       "  <thead>\n",
       "    <tr style=\"text-align: right;\">\n",
       "      <th></th>\n",
       "      <th>id</th>\n",
       "      <th>parent_id</th>\n",
       "      <th>post_id</th>\n",
       "      <th>body</th>\n",
       "      <th>created_utc</th>\n",
       "      <th>depth</th>\n",
       "      <th>score</th>\n",
       "      <th>ups</th>\n",
       "      <th>downs</th>\n",
       "    </tr>\n",
       "  </thead>\n",
       "  <tbody>\n",
       "    <tr>\n",
       "      <th>3619</th>\n",
       "      <td>gl71z9j</td>\n",
       "      <td>l7iorh</td>\n",
       "      <td>l7iorh</td>\n",
       "      <td>I think if we learned anything from this, OPEN...</td>\n",
       "      <td>1611895449.0</td>\n",
       "      <td>0</td>\n",
       "      <td>22</td>\n",
       "      <td>22</td>\n",
       "      <td>0</td>\n",
       "    </tr>\n",
       "    <tr>\n",
       "      <th>3620</th>\n",
       "      <td>gl724zv</td>\n",
       "      <td>l7iorh</td>\n",
       "      <td>l7iorh</td>\n",
       "      <td>I’m naming my future son (or daughter) deepfuc...</td>\n",
       "      <td>1611895528.0</td>\n",
       "      <td>0</td>\n",
       "      <td>22</td>\n",
       "      <td>22</td>\n",
       "      <td>0</td>\n",
       "    </tr>\n",
       "  </tbody>\n",
       "</table>\n",
       "</div>"
      ],
      "text/plain": [
       "           id parent_id post_id  \\\n",
       "3619  gl71z9j    l7iorh  l7iorh   \n",
       "3620  gl724zv    l7iorh  l7iorh   \n",
       "\n",
       "                                                   body   created_utc depth  \\\n",
       "3619  I think if we learned anything from this, OPEN...  1611895449.0     0   \n",
       "3620  I’m naming my future son (or daughter) deepfuc...  1611895528.0     0   \n",
       "\n",
       "     score ups downs  \n",
       "3619    22  22     0  \n",
       "3620    22  22     0  "
      ]
     },
     "execution_count": 21,
     "metadata": {},
     "output_type": "execute_result"
    }
   ],
   "source": [
    "df[-2:]"
   ]
  },
  {
   "cell_type": "code",
   "execution_count": 19,
   "metadata": {},
   "outputs": [],
   "source": [
    "save_dataset(df, 'new_comments_80.csv')"
   ]
  },
  {
   "cell_type": "code",
   "execution_count": 22,
   "metadata": {},
   "outputs": [
    {
     "data": {
      "text/plain": [
       "2470     l5c0nr\n",
       "11710    l6er79\n",
       "Name: id, dtype: object"
      ]
     },
     "execution_count": 22,
     "metadata": {},
     "output_type": "execute_result"
    }
   ],
   "source": [
    "cut.id[-2:]"
   ]
  },
  {
   "cell_type": "code",
   "execution_count": null,
   "metadata": {},
   "outputs": [],
   "source": []
  }
 ],
 "metadata": {
  "kernelspec": {
   "display_name": "Python 3.7.6 64-bit ('anaconda3': virtualenv)",
   "language": "python",
   "name": "python37664bitanaconda3virtualenv479a4a6d335c4a66b4edef7caa9238ba"
  },
  "language_info": {
   "codemirror_mode": {
    "name": "ipython",
    "version": 3
   },
   "file_extension": ".py",
   "mimetype": "text/x-python",
   "name": "python",
   "nbconvert_exporter": "python",
   "pygments_lexer": "ipython3",
   "version": "3.7.6"
  }
 },
 "nbformat": 4,
 "nbformat_minor": 5
}
