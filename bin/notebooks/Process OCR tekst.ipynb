{
 "cells": [
  {
   "cell_type": "code",
   "execution_count": 1,
   "id": "c3f4da87",
   "metadata": {},
   "outputs": [],
   "source": [
    "import os\n",
    "import ast\n",
    "import sys\n",
    "src_dir = os.path.join('..', 'src')\n",
    "sys.path.append(os.path.abspath(src_dir))\n",
    "\n",
    "from data import path, get_dataset\n",
    "from text_processing import remove_numbers, lemmatize, remove_stopwords"
   ]
  },
  {
   "cell_type": "code",
   "execution_count": 2,
   "id": "51789560",
   "metadata": {},
   "outputs": [
    {
     "name": "stdout",
     "output_type": "stream",
     "text": [
      "../../data/datasets/data_0.99a.csv\n"
     ]
    }
   ],
   "source": [
    "data = get_dataset()"
   ]
  },
  {
   "cell_type": "code",
   "execution_count": 3,
   "id": "09c31022",
   "metadata": {},
   "outputs": [],
   "source": [
    "data.ocr_text = data.ocr_text.apply(lambda x: [''] if type(x) == float else x)"
   ]
  },
  {
   "cell_type": "code",
   "execution_count": 4,
   "id": "45822e95",
   "metadata": {},
   "outputs": [
    {
     "data": {
      "text/plain": [
       "['lte',\n",
       " '5501',\n",
       " 'oll',\n",
       " 's30',\n",
       " 't2',\n",
       " 'mar21',\n",
       " 'calls',\n",
       " 'total',\n",
       " 'day',\n",
       " 'gain',\n",
       " 'gain',\n",
       " 'cost',\n",
       " 'basis',\n",
       " '108000',\n",
       " '7251',\n",
       " '00',\n",
       " '166',\n",
       " 'spwr',\n",
       " '43',\n",
       " '78',\n",
       " '641',\n",
       " '171528101',\n",
       " 'close',\n",
       " 'add',\n",
       " 'roll',\n",
       " 'bid',\n",
       " 'contract',\n",
       " 'ask',\n",
       " 't2',\n",
       " 'mar21',\n",
       " 's30',\n",
       " 'calls',\n",
       " 'in',\n",
       " '15',\n",
       " '10',\n",
       " '15',\n",
       " '45',\n",
       " 'cost',\n",
       " 'value',\n",
       " 'market',\n",
       " 'value',\n",
       " 'days',\n",
       " 'expn',\n",
       " 'to',\n",
       " '332',\n",
       " '00',\n",
       " 's39',\n",
       " '055',\n",
       " '00',\n",
       " '57',\n",
       " 'o00',\n",
       " 'dashboard',\n",
       " 'portfolio',\n",
       " 'quote',\n",
       " 'trade',\n",
       " 'menu']"
      ]
     },
     "execution_count": 4,
     "metadata": {},
     "output_type": "execute_result"
    }
   ],
   "source": [
    "data.ocr_text = data.ocr_text.apply(lambda x: ast.literal_eval(x) if type(x) == str else x)\n",
    "data.ocr_text.values[1]"
   ]
  },
  {
   "cell_type": "code",
   "execution_count": 5,
   "id": "b93fb5aa",
   "metadata": {},
   "outputs": [
    {
     "data": {
      "text/plain": [
       "['lte',\n",
       " '',\n",
       " 'oll',\n",
       " 's',\n",
       " 't',\n",
       " 'mar',\n",
       " 'calls',\n",
       " 'total',\n",
       " 'day',\n",
       " 'gain',\n",
       " 'gain',\n",
       " 'cost',\n",
       " 'basis',\n",
       " '',\n",
       " '',\n",
       " '',\n",
       " '',\n",
       " 'spwr',\n",
       " '',\n",
       " '',\n",
       " '',\n",
       " '',\n",
       " 'close',\n",
       " 'add',\n",
       " 'roll',\n",
       " 'bid',\n",
       " 'contract',\n",
       " 'ask',\n",
       " 't',\n",
       " 'mar',\n",
       " 's',\n",
       " 'calls',\n",
       " 'in',\n",
       " '',\n",
       " '',\n",
       " '',\n",
       " '',\n",
       " 'cost',\n",
       " 'value',\n",
       " 'market',\n",
       " 'value',\n",
       " 'days',\n",
       " 'expn',\n",
       " 'to',\n",
       " '',\n",
       " '',\n",
       " 's',\n",
       " '',\n",
       " '',\n",
       " '',\n",
       " 'o',\n",
       " 'dashboard',\n",
       " 'portfolio',\n",
       " 'quote',\n",
       " 'trade',\n",
       " 'menu']"
      ]
     },
     "execution_count": 5,
     "metadata": {},
     "output_type": "execute_result"
    }
   ],
   "source": [
    "data.ocr_text = remove_numbers(data.ocr_text.values)\n",
    "data.ocr_text.values[1]"
   ]
  },
  {
   "cell_type": "code",
   "execution_count": 6,
   "id": "f2f1ead5",
   "metadata": {},
   "outputs": [
    {
     "data": {
      "text/plain": [
       "['lte',\n",
       " 'oll',\n",
       " 'mar',\n",
       " 'calls',\n",
       " 'total',\n",
       " 'day',\n",
       " 'gain',\n",
       " 'gain',\n",
       " 'cost',\n",
       " 'basis',\n",
       " 'spwr',\n",
       " 'close',\n",
       " 'add',\n",
       " 'roll',\n",
       " 'bid',\n",
       " 'contract',\n",
       " 'ask',\n",
       " 'mar',\n",
       " 'calls',\n",
       " 'in',\n",
       " 'cost',\n",
       " 'value',\n",
       " 'market',\n",
       " 'value',\n",
       " 'days',\n",
       " 'expn',\n",
       " 'to',\n",
       " 'dashboard',\n",
       " 'portfolio',\n",
       " 'quote',\n",
       " 'trade',\n",
       " 'menu']"
      ]
     },
     "execution_count": 6,
     "metadata": {},
     "output_type": "execute_result"
    }
   ],
   "source": [
    "data.ocr_text = data.ocr_text.apply(lambda x: [word for word in x if len(word) > 1])\n",
    "data.ocr_text.values[1]"
   ]
  },
  {
   "cell_type": "code",
   "execution_count": 7,
   "id": "7c080461",
   "metadata": {},
   "outputs": [
    {
     "data": {
      "text/plain": [
       "['lte',\n",
       " 'oll',\n",
       " 'mar',\n",
       " 'calls',\n",
       " 'total',\n",
       " 'day',\n",
       " 'gain',\n",
       " 'gain',\n",
       " 'cost',\n",
       " 'basis',\n",
       " 'spwr',\n",
       " 'close',\n",
       " 'add',\n",
       " 'roll',\n",
       " 'bid',\n",
       " 'contract',\n",
       " 'ask',\n",
       " 'mar',\n",
       " 'calls',\n",
       " 'cost',\n",
       " 'value',\n",
       " 'market',\n",
       " 'value',\n",
       " 'days',\n",
       " 'expn',\n",
       " 'dashboard',\n",
       " 'portfolio',\n",
       " 'quote',\n",
       " 'trade',\n",
       " 'menu']"
      ]
     },
     "execution_count": 7,
     "metadata": {},
     "output_type": "execute_result"
    }
   ],
   "source": [
    "data.ocr_text = remove_stopwords(data.ocr_text.values)\n",
    "data.ocr_text.values[1]"
   ]
  },
  {
   "cell_type": "code",
   "execution_count": 8,
   "id": "b5eb79e9",
   "metadata": {},
   "outputs": [
    {
     "data": {
      "text/plain": [
       "['lte',\n",
       " 'oll',\n",
       " 'mar',\n",
       " 'call',\n",
       " 'total',\n",
       " 'day',\n",
       " 'gain',\n",
       " 'gain',\n",
       " 'cost',\n",
       " 'basis',\n",
       " 'spwr',\n",
       " 'close',\n",
       " 'add',\n",
       " 'roll',\n",
       " 'bid',\n",
       " 'contract',\n",
       " 'ask',\n",
       " 'mar',\n",
       " 'call',\n",
       " 'cost',\n",
       " 'value',\n",
       " 'market',\n",
       " 'value',\n",
       " 'days',\n",
       " 'expn',\n",
       " 'dashboard',\n",
       " 'portfolio',\n",
       " 'quote',\n",
       " 'trade',\n",
       " 'menu']"
      ]
     },
     "execution_count": 8,
     "metadata": {},
     "output_type": "execute_result"
    }
   ],
   "source": [
    "data.ocr_text = lemmatize(data.ocr_text.values, 'v')\n",
    "data.ocr_text.values[1]"
   ]
  },
  {
   "cell_type": "code",
   "execution_count": 9,
   "id": "d7d22b93",
   "metadata": {},
   "outputs": [
    {
     "data": {
      "text/plain": [
       "['lte',\n",
       " 'oll',\n",
       " 'mar',\n",
       " 'call',\n",
       " 'total',\n",
       " 'day',\n",
       " 'gain',\n",
       " 'gain',\n",
       " 'cost',\n",
       " 'basis',\n",
       " 'spwr',\n",
       " 'close',\n",
       " 'add',\n",
       " 'roll',\n",
       " 'bid',\n",
       " 'contract',\n",
       " 'ask',\n",
       " 'mar',\n",
       " 'call',\n",
       " 'cost',\n",
       " 'value',\n",
       " 'market',\n",
       " 'value',\n",
       " 'day',\n",
       " 'expn',\n",
       " 'dashboard',\n",
       " 'portfolio',\n",
       " 'quote',\n",
       " 'trade',\n",
       " 'menu']"
      ]
     },
     "execution_count": 9,
     "metadata": {},
     "output_type": "execute_result"
    }
   ],
   "source": [
    "data.ocr_text = lemmatize(data.ocr_text.values, 'n')\n",
    "data.ocr_text.values[1]"
   ]
  },
  {
   "cell_type": "code",
   "execution_count": 12,
   "id": "8856e127",
   "metadata": {},
   "outputs": [
    {
     "data": {
      "text/plain": [
       "['shortsight',\n",
       " 'portfolio',\n",
       " 'analyzer',\n",
       " 'symbol',\n",
       " 'add',\n",
       " 'delete',\n",
       " 'save',\n",
       " 'watchlist',\n",
       " 'alert',\n",
       " 'symbol',\n",
       " 'name',\n",
       " 'bear',\n",
       " 'bull',\n",
       " 'si',\n",
       " 'share',\n",
       " 'si',\n",
       " 'chg',\n",
       " 'si',\n",
       " 'v',\n",
       " 'profile',\n",
       " 'gamestop',\n",
       " 'gme',\n",
       " 'corp',\n",
       " 'lo',\n",
       " 'password',\n",
       " 'reset',\n",
       " 'helpisupport',\n",
       " 'select',\n",
       " 'gamestop',\n",
       " 'security',\n",
       " 'corp',\n",
       " 'logout',\n",
       " 'si',\n",
       " 'float',\n",
       " 'float',\n",
       " 'lo',\n",
       " 'lo',\n",
       " 'lo',\n",
       " 'lo',\n",
       " 'lo']"
      ]
     },
     "execution_count": 12,
     "metadata": {},
     "output_type": "execute_result"
    }
   ],
   "source": [
    "data.ocr_text[6]"
   ]
  },
  {
   "cell_type": "code",
   "execution_count": 13,
   "id": "f1a0be73",
   "metadata": {},
   "outputs": [],
   "source": [
    "data.to_csv(os.path.join(path('dataset'), 'data_0.99b.csv'), sep='`', index=False)"
   ]
  },
  {
   "cell_type": "code",
   "execution_count": null,
   "id": "061b4b7f",
   "metadata": {},
   "outputs": [],
   "source": []
  }
 ],
 "metadata": {
  "kernelspec": {
   "display_name": "Python 3",
   "language": "python",
   "name": "python3"
  },
  "language_info": {
   "codemirror_mode": {
    "name": "ipython",
    "version": 3
   },
   "file_extension": ".py",
   "mimetype": "text/x-python",
   "name": "python",
   "nbconvert_exporter": "python",
   "pygments_lexer": "ipython3",
   "version": "3.8.5"
  }
 },
 "nbformat": 4,
 "nbformat_minor": 5
}
